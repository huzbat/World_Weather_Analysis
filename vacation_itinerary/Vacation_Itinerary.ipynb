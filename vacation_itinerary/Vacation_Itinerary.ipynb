{
 "cells": [
  {
   "cell_type": "markdown",
   "metadata": {},
   "source": [
    "## Deliverable 3. Create a Travel Itinerary Map."
   ]
  },
  {
   "cell_type": "code",
   "execution_count": 1,
   "metadata": {},
   "outputs": [],
   "source": [
    "# Dependencies and Setup\n",
    "import pandas as pd\n",
    "import requests\n",
    "import gmaps\n",
    "\n",
    "# Import API key\n",
    "from config import g_key\n",
    "\n",
    "# Configure gmaps\n",
    "gmaps.configure(api_key=g_key)"
   ]
  },
  {
   "cell_type": "code",
   "execution_count": 7,
   "metadata": {},
   "outputs": [
    {
     "data": {
      "text/html": [
       "<div>\n",
       "<style scoped>\n",
       "    .dataframe tbody tr th:only-of-type {\n",
       "        vertical-align: middle;\n",
       "    }\n",
       "\n",
       "    .dataframe tbody tr th {\n",
       "        vertical-align: top;\n",
       "    }\n",
       "\n",
       "    .dataframe thead th {\n",
       "        text-align: right;\n",
       "    }\n",
       "</style>\n",
       "<table border=\"1\" class=\"dataframe\">\n",
       "  <thead>\n",
       "    <tr style=\"text-align: right;\">\n",
       "      <th></th>\n",
       "      <th>City_ID</th>\n",
       "      <th>City</th>\n",
       "      <th>Country</th>\n",
       "      <th>Max Temp</th>\n",
       "      <th>Current Description</th>\n",
       "      <th>Lat</th>\n",
       "      <th>Lng</th>\n",
       "      <th>Hotel Name</th>\n",
       "    </tr>\n",
       "  </thead>\n",
       "  <tbody>\n",
       "    <tr>\n",
       "      <th>0</th>\n",
       "      <td>2</td>\n",
       "      <td>Yellowknife</td>\n",
       "      <td>CA</td>\n",
       "      <td>55.92</td>\n",
       "      <td>light intensity shower rain</td>\n",
       "      <td>62.4560</td>\n",
       "      <td>-114.3525</td>\n",
       "      <td>The Explorer Hotel</td>\n",
       "    </tr>\n",
       "    <tr>\n",
       "      <th>1</th>\n",
       "      <td>4</td>\n",
       "      <td>Cherskiy</td>\n",
       "      <td>RU</td>\n",
       "      <td>53.65</td>\n",
       "      <td>broken clouds</td>\n",
       "      <td>68.7500</td>\n",
       "      <td>161.3000</td>\n",
       "      <td>Gostinitsa</td>\n",
       "    </tr>\n",
       "    <tr>\n",
       "      <th>2</th>\n",
       "      <td>5</td>\n",
       "      <td>College</td>\n",
       "      <td>US</td>\n",
       "      <td>54.28</td>\n",
       "      <td>broken clouds</td>\n",
       "      <td>64.8569</td>\n",
       "      <td>-147.8028</td>\n",
       "      <td>Pike's Waterfront Lodge</td>\n",
       "    </tr>\n",
       "    <tr>\n",
       "      <th>3</th>\n",
       "      <td>13</td>\n",
       "      <td>Severo-Kurilsk</td>\n",
       "      <td>RU</td>\n",
       "      <td>59.58</td>\n",
       "      <td>scattered clouds</td>\n",
       "      <td>50.6789</td>\n",
       "      <td>156.1250</td>\n",
       "      <td>Kak Doma</td>\n",
       "    </tr>\n",
       "    <tr>\n",
       "      <th>4</th>\n",
       "      <td>34</td>\n",
       "      <td>Cape Town</td>\n",
       "      <td>ZA</td>\n",
       "      <td>56.10</td>\n",
       "      <td>few clouds</td>\n",
       "      <td>-33.9258</td>\n",
       "      <td>18.4232</td>\n",
       "      <td>Radisson Blu Hotel Waterfront, Cape Town</td>\n",
       "    </tr>\n",
       "    <tr>\n",
       "      <th>...</th>\n",
       "      <td>...</td>\n",
       "      <td>...</td>\n",
       "      <td>...</td>\n",
       "      <td>...</td>\n",
       "      <td>...</td>\n",
       "      <td>...</td>\n",
       "      <td>...</td>\n",
       "      <td>...</td>\n",
       "    </tr>\n",
       "    <tr>\n",
       "      <th>86</th>\n",
       "      <td>536</td>\n",
       "      <td>Golyshmanovo</td>\n",
       "      <td>RU</td>\n",
       "      <td>56.35</td>\n",
       "      <td>clear sky</td>\n",
       "      <td>56.3979</td>\n",
       "      <td>68.3728</td>\n",
       "      <td>Mini gostinitsa Paradiz</td>\n",
       "    </tr>\n",
       "    <tr>\n",
       "      <th>87</th>\n",
       "      <td>539</td>\n",
       "      <td>Imbituba</td>\n",
       "      <td>BR</td>\n",
       "      <td>54.39</td>\n",
       "      <td>overcast clouds</td>\n",
       "      <td>-28.2400</td>\n",
       "      <td>-48.6703</td>\n",
       "      <td>Praia Hotel Imbituba</td>\n",
       "    </tr>\n",
       "    <tr>\n",
       "      <th>88</th>\n",
       "      <td>543</td>\n",
       "      <td>Gualeguay</td>\n",
       "      <td>AR</td>\n",
       "      <td>55.17</td>\n",
       "      <td>clear sky</td>\n",
       "      <td>-33.1416</td>\n",
       "      <td>-59.3097</td>\n",
       "      <td>Faro del Lago</td>\n",
       "    </tr>\n",
       "    <tr>\n",
       "      <th>89</th>\n",
       "      <td>551</td>\n",
       "      <td>Sydney</td>\n",
       "      <td>AU</td>\n",
       "      <td>56.59</td>\n",
       "      <td>clear sky</td>\n",
       "      <td>-33.8679</td>\n",
       "      <td>151.2073</td>\n",
       "      <td>The Grace Sydney</td>\n",
       "    </tr>\n",
       "    <tr>\n",
       "      <th>90</th>\n",
       "      <td>552</td>\n",
       "      <td>Patacamaya</td>\n",
       "      <td>BO</td>\n",
       "      <td>54.50</td>\n",
       "      <td>broken clouds</td>\n",
       "      <td>-17.2333</td>\n",
       "      <td>-67.9167</td>\n",
       "      <td>RESIDENCIAL ISLA VIGU</td>\n",
       "    </tr>\n",
       "  </tbody>\n",
       "</table>\n",
       "<p>91 rows × 8 columns</p>\n",
       "</div>"
      ],
      "text/plain": [
       "    City_ID            City Country  Max Temp          Current Description  \\\n",
       "0         2     Yellowknife      CA     55.92  light intensity shower rain   \n",
       "1         4        Cherskiy      RU     53.65                broken clouds   \n",
       "2         5         College      US     54.28                broken clouds   \n",
       "3        13  Severo-Kurilsk      RU     59.58             scattered clouds   \n",
       "4        34       Cape Town      ZA     56.10                   few clouds   \n",
       "..      ...             ...     ...       ...                          ...   \n",
       "86      536    Golyshmanovo      RU     56.35                    clear sky   \n",
       "87      539        Imbituba      BR     54.39              overcast clouds   \n",
       "88      543       Gualeguay      AR     55.17                    clear sky   \n",
       "89      551          Sydney      AU     56.59                    clear sky   \n",
       "90      552      Patacamaya      BO     54.50                broken clouds   \n",
       "\n",
       "        Lat       Lng                                Hotel Name  \n",
       "0   62.4560 -114.3525                        The Explorer Hotel  \n",
       "1   68.7500  161.3000                                Gostinitsa  \n",
       "2   64.8569 -147.8028                   Pike's Waterfront Lodge  \n",
       "3   50.6789  156.1250                                  Kak Doma  \n",
       "4  -33.9258   18.4232  Radisson Blu Hotel Waterfront, Cape Town  \n",
       "..      ...       ...                                       ...  \n",
       "86  56.3979   68.3728                   Mini gostinitsa Paradiz  \n",
       "87 -28.2400  -48.6703                      Praia Hotel Imbituba  \n",
       "88 -33.1416  -59.3097                             Faro del Lago  \n",
       "89 -33.8679  151.2073                          The Grace Sydney  \n",
       "90 -17.2333  -67.9167                     RESIDENCIAL ISLA VIGU  \n",
       "\n",
       "[91 rows x 8 columns]"
      ]
     },
     "execution_count": 7,
     "metadata": {},
     "output_type": "execute_result"
    }
   ],
   "source": [
    "# 1. Read the WeatherPy_vacation.csv into a DataFrame.\n",
    "vacation_df = pd.read_csv(\"../Vacation_Search/WeatherPy_vacation.csv\")\n",
    "vacation_df"
   ]
  },
  {
   "cell_type": "code",
   "execution_count": 3,
   "metadata": {},
   "outputs": [],
   "source": [
    "# 2. Using the template add the city name, the country code, the weather description and maximum temperature for the city.\n",
    "info_box_template = \"\"\"\n",
    "<dl>\n",
    "<dt>Hotel Name</dt><dd>{Hotel Name}</dd>\n",
    "<dt>City</dt><dd>{City}</dd>\n",
    "<dt>Country</dt><dd>{Country}</dd>\n",
    "<dt>Max Temp</dt><dd>{Max Temp} °F</dd>\n",
    "</dl>\n",
    "\"\"\"\n",
    "\n",
    "# 3a. Get the data from each row and add it to the formatting template and store the data in a list.\n",
    "hotel_info = [info_box_template.format(**row) for index, row in vacation_df.iterrows()]\n",
    "\n",
    "# 3b. Get the latitude and longitude from each row and store in a new DataFrame.\n",
    "locations = vacation_df[[\"Lat\", \"Lng\"]]"
   ]
  },
  {
   "cell_type": "code",
   "execution_count": 4,
   "metadata": {},
   "outputs": [
    {
     "data": {
      "application/vnd.jupyter.widget-view+json": {
       "model_id": "e412467123ae41048bcc0097c7439253",
       "version_major": 2,
       "version_minor": 0
      },
      "text/plain": [
       "Figure(layout=FigureLayout(height='420px'))"
      ]
     },
     "metadata": {},
     "output_type": "display_data"
    }
   ],
   "source": [
    "# 4a. Add a marker layer for each city to the map.\n",
    "fig = gmaps.figure(center=(30.0, 31.0), zoom_level=1.5)\n",
    "marker_layer = gmaps.marker_layer(locations, info_box_content=hotel_info)\n",
    "fig.add_layer(marker_layer)\n",
    "# 4b. Display the figure\n",
    "fig"
   ]
  },
  {
   "cell_type": "code",
   "execution_count": 12,
   "metadata": {},
   "outputs": [],
   "source": [
    "# From the map above pick 4 cities and create a vacation itinerary route to travel between the four cities. \n",
    "# 5. Create DataFrames for each city by filtering the 'vacation_df' using the loc method. \n",
    "# Hint: The starting and ending city should be the same city.\n",
    "\n",
    "vacation_start = \"College\"\n",
    "vacation_end = \"College\"\n",
    "city2 = \"Yellowknife\"\n",
    "city3 = \"Sydney\"\n",
    "city4 = \"Cape Town\" \n",
    "\n",
    "vacation_start = vacation_df.loc[vacation_df[\"City\"] == vacation_start]\n",
    "vacation_end = vacation_df.loc[vacation_df[\"City\"] == vacation_end]  \n",
    "vacation_stop2 = vacation_df.loc[vacation_df[\"City\"] == city2]\n",
    "vacation_stop3 = vacation_df.loc[vacation_df[\"City\"] == city3] \n",
    "vacation_stop4 = vacation_df.loc[vacation_df[\"City\"] == city4]   "
   ]
  },
  {
   "cell_type": "code",
   "execution_count": 13,
   "metadata": {},
   "outputs": [
    {
     "name": "stdout",
     "output_type": "stream",
     "text": [
      "[  64.8569 -147.8028]\n",
      "[  64.8569 -147.8028]\n",
      "[  62.456  -114.3525]\n",
      "[-33.8679 151.2073]\n"
     ]
    }
   ],
   "source": [
    "# 6. Get the latitude-longitude pairs as tuples from each city DataFrame using the to_numpy function and list indexing.\n",
    "start = vacation_start[[\"Lat\", \"Lng\"]].to_numpy()[0]\n",
    "end = vacation_end[[\"Lat\", \"Lng\"]].to_numpy()[0]\n",
    "stop1 = vacation_stop2[[\"Lat\", \"Lng\"]].to_numpy()[0]\n",
    "stop2 = vacation_stop3[[\"Lat\", \"Lng\"]].to_numpy()[0]\n",
    "stop3 = vacation_stop4[[\"Lat\", \"Lng\"]].to_numpy()[0]  \n",
    "\n",
    "print(start)\n",
    "print(end)\n",
    "print(stop1)\n",
    "print(stop2)"
   ]
  },
  {
   "cell_type": "code",
   "execution_count": 14,
   "metadata": {
    "scrolled": true
   },
   "outputs": [
    {
     "data": {
      "application/vnd.jupyter.widget-view+json": {
       "model_id": "600e73f5f7224d13b98635e1c8e06ed9",
       "version_major": 2,
       "version_minor": 0
      },
      "text/plain": [
       "Figure(layout=FigureLayout(height='420px'))"
      ]
     },
     "metadata": {},
     "output_type": "display_data"
    }
   ],
   "source": [
    "# 7. Create a direction layer map using the start and end latitude-longitude pairs,\n",
    "# and stop1, stop2, and stop3 as the waypoints. The travel_mode should be \"DRIVING\", \"BICYCLING\", or \"WALKING\".\n",
    "fig = gmaps.figure()\n",
    "travel_route = gmaps.directions_layer(start, end, waypoints=[stop1,stop2,stop3], travel_mode=\"DRIVING\" or \"BICYCLING\" or \"WALKING\")\n",
    "fig.add_layer(travel_route)\n",
    "fig \n"
   ]
  },
  {
   "cell_type": "code",
   "execution_count": 21,
   "metadata": {},
   "outputs": [
    {
     "data": {
      "text/html": [
       "<div>\n",
       "<style scoped>\n",
       "    .dataframe tbody tr th:only-of-type {\n",
       "        vertical-align: middle;\n",
       "    }\n",
       "\n",
       "    .dataframe tbody tr th {\n",
       "        vertical-align: top;\n",
       "    }\n",
       "\n",
       "    .dataframe thead th {\n",
       "        text-align: right;\n",
       "    }\n",
       "</style>\n",
       "<table border=\"1\" class=\"dataframe\">\n",
       "  <thead>\n",
       "    <tr style=\"text-align: right;\">\n",
       "      <th></th>\n",
       "      <th>City_ID</th>\n",
       "      <th>City</th>\n",
       "      <th>Country</th>\n",
       "      <th>Max Temp</th>\n",
       "      <th>Current Description</th>\n",
       "      <th>Lat</th>\n",
       "      <th>Lng</th>\n",
       "      <th>Hotel Name</th>\n",
       "    </tr>\n",
       "  </thead>\n",
       "  <tbody>\n",
       "    <tr>\n",
       "      <th>0</th>\n",
       "      <td>5</td>\n",
       "      <td>College</td>\n",
       "      <td>US</td>\n",
       "      <td>54.28</td>\n",
       "      <td>broken clouds</td>\n",
       "      <td>64.8569</td>\n",
       "      <td>-147.8028</td>\n",
       "      <td>Pike's Waterfront Lodge</td>\n",
       "    </tr>\n",
       "    <tr>\n",
       "      <th>1</th>\n",
       "      <td>2</td>\n",
       "      <td>Yellowknife</td>\n",
       "      <td>CA</td>\n",
       "      <td>55.92</td>\n",
       "      <td>light intensity shower rain</td>\n",
       "      <td>62.4560</td>\n",
       "      <td>-114.3525</td>\n",
       "      <td>The Explorer Hotel</td>\n",
       "    </tr>\n",
       "    <tr>\n",
       "      <th>2</th>\n",
       "      <td>551</td>\n",
       "      <td>Sydney</td>\n",
       "      <td>AU</td>\n",
       "      <td>56.59</td>\n",
       "      <td>clear sky</td>\n",
       "      <td>-33.8679</td>\n",
       "      <td>151.2073</td>\n",
       "      <td>The Grace Sydney</td>\n",
       "    </tr>\n",
       "    <tr>\n",
       "      <th>3</th>\n",
       "      <td>34</td>\n",
       "      <td>Cape Town</td>\n",
       "      <td>ZA</td>\n",
       "      <td>56.10</td>\n",
       "      <td>few clouds</td>\n",
       "      <td>-33.9258</td>\n",
       "      <td>18.4232</td>\n",
       "      <td>Radisson Blu Hotel Waterfront, Cape Town</td>\n",
       "    </tr>\n",
       "  </tbody>\n",
       "</table>\n",
       "</div>"
      ],
      "text/plain": [
       "   City_ID         City Country  Max Temp          Current Description  \\\n",
       "0        5      College      US     54.28                broken clouds   \n",
       "1        2  Yellowknife      CA     55.92  light intensity shower rain   \n",
       "2      551       Sydney      AU     56.59                    clear sky   \n",
       "3       34    Cape Town      ZA     56.10                   few clouds   \n",
       "\n",
       "       Lat       Lng                                Hotel Name  \n",
       "0  64.8569 -147.8028                   Pike's Waterfront Lodge  \n",
       "1  62.4560 -114.3525                        The Explorer Hotel  \n",
       "2 -33.8679  151.2073                          The Grace Sydney  \n",
       "3 -33.9258   18.4232  Radisson Blu Hotel Waterfront, Cape Town  "
      ]
     },
     "execution_count": 21,
     "metadata": {},
     "output_type": "execute_result"
    }
   ],
   "source": [
    "# 8. To create a marker layer map between the four cities.\n",
    "#  Combine the four city DataFrames into one DataFrame using the concat() function.\n",
    "itinerary_df = pd.concat([vacation_start, vacation_stop2, vacation_stop3, vacation_stop4],ignore_index=True)\n",
    "itinerary_df"
   ]
  },
  {
   "cell_type": "code",
   "execution_count": 22,
   "metadata": {},
   "outputs": [],
   "source": [
    "# 9 Using the template add city name, the country code, the weather description and maximum temperature for the city. \n",
    "info_box_template = \"\"\"\n",
    "<dl>\n",
    "<dt>Hotel Name</dt><dd>{Hotel Name}</dd>\n",
    "<dt>City</dt><dd>{City}</dd>\n",
    "<dt>Country</dt><dd>{Country}</dd>\n",
    "<dt>Weather Description</dt><dd>{Current Description}</dd>\n",
    "<dt>Max Temp</dt><dd>{Max Temp}</dd>\n",
    "</dl>\n",
    "\"\"\"\n",
    "\n",
    "# 10a Get the data from each row and add it to the formatting template and store the data in a list.\n",
    "hotel_info = [info_box_template.format(**row) for index, row in itinerary_df.iterrows()]\n",
    "itinerary_df\n",
    "# 10b. Get the latitude and longitude from each row and store in a new DataFrame.\n",
    "locations = itinerary_df[[\"Lat\", \"Lng\"]]"
   ]
  },
  {
   "cell_type": "code",
   "execution_count": 23,
   "metadata": {},
   "outputs": [
    {
     "data": {
      "application/vnd.jupyter.widget-view+json": {
       "model_id": "bb58d1efbce5490bbc6414537407f589",
       "version_major": 2,
       "version_minor": 0
      },
      "text/plain": [
       "Figure(layout=FigureLayout(height='420px'))"
      ]
     },
     "metadata": {},
     "output_type": "display_data"
    }
   ],
   "source": [
    "# 11a. Add a marker layer for each city to the map.\n",
    "fig = gmaps.figure()\n",
    "markers = gmaps.marker_layer(locations, info_box_content=hotel_info)\n",
    "fig.add_layer(markers)\n",
    "# 11b. Display the figure\n",
    "fig "
   ]
  },
  {
   "cell_type": "code",
   "execution_count": null,
   "metadata": {},
   "outputs": [],
   "source": []
  }
 ],
 "metadata": {
  "kernelspec": {
   "display_name": "PythonData",
   "language": "python",
   "name": "pythondata"
  },
  "language_info": {
   "codemirror_mode": {
    "name": "ipython",
    "version": 3
   },
   "file_extension": ".py",
   "mimetype": "text/x-python",
   "name": "python",
   "nbconvert_exporter": "python",
   "pygments_lexer": "ipython3",
   "version": "3.9.7"
  },
  "latex_envs": {
   "LaTeX_envs_menu_present": true,
   "autoclose": false,
   "autocomplete": true,
   "bibliofile": "biblio.bib",
   "cite_by": "apalike",
   "current_citInitial": 1,
   "eqLabelWithNumbers": true,
   "eqNumInitial": 1,
   "hotkeys": {
    "equation": "Ctrl-E",
    "itemize": "Ctrl-I"
   },
   "labels_anchors": false,
   "latex_user_defs": false,
   "report_style_numbering": false,
   "user_envs_cfg": false
  }
 },
 "nbformat": 4,
 "nbformat_minor": 2
}
